{
 "cells": [
  {
   "cell_type": "code",
   "execution_count": null,
   "metadata": {},
   "outputs": [
    {
     "name": "stdout",
     "output_type": "stream",
     "text": [
      "No of classes =  27\n",
      "Using GPU\n",
      "Reached train function\n",
      "Epoch: 0\n",
      "TRAINING: epoch0, iter0, loss: 0.996341347694397\n",
      "TRAINING: epoch0, iter100, loss: 0.7791563272476196\n",
      "Finish epoch 0, time elapsed 74.4856367111206\n",
      "VALIDATION: iter0, loss: 0.7879043221473694\n",
      "Validation epoch 0: avg_iou = 0.4907376766204834, avg_acc = 0.6417593236953493\n",
      "Epoch: 1\n",
      "TRAINING: epoch1, iter0, loss: 0.7763753533363342\n",
      "TRAINING: epoch1, iter100, loss: 0.7847597002983093\n",
      "Finish epoch 1, time elapsed 78.5021960735321\n",
      "VALIDATION: iter0, loss: 0.8261387348175049\n",
      "Validation epoch 1: avg_iou = 0.45189273120864987, avg_acc = 0.6047249360690041\n",
      "Epoch: 2\n",
      "TRAINING: epoch2, iter0, loss: 0.7704442739486694\n",
      "TRAINING: epoch2, iter100, loss: 0.738201379776001\n",
      "Finish epoch 2, time elapsed 77.82605862617493\n",
      "VALIDATION: iter0, loss: 0.7307697534561157\n",
      "Validation epoch 2: avg_iou = 0.565432608127594, avg_acc = 0.7081414640895904\n",
      "Epoch: 3\n",
      "TRAINING: epoch3, iter0, loss: 0.7296793460845947\n",
      "TRAINING: epoch3, iter100, loss: 0.7250692248344421\n",
      "Finish epoch 3, time elapsed 78.93008852005005\n",
      "VALIDATION: iter0, loss: 0.7254905104637146\n",
      "Validation epoch 3: avg_iou = 0.5688345886412121, avg_acc = 0.7101345573152814\n",
      "Epoch: 4\n",
      "TRAINING: epoch4, iter0, loss: 0.7153737545013428\n",
      "TRAINING: epoch4, iter100, loss: 0.7178529500961304\n",
      "Finish epoch 4, time elapsed 79.65515613555908\n",
      "VALIDATION: iter0, loss: 0.7035715579986572\n",
      "Validation epoch 4: avg_iou = 0.5571791491811238, avg_acc = 0.7025773515776982\n",
      "Epoch: 5\n",
      "TRAINING: epoch5, iter0, loss: 0.7050961256027222\n",
      "TRAINING: epoch5, iter100, loss: 0.7000653743743896\n",
      "Finish epoch 5, time elapsed 79.89721941947937\n",
      "VALIDATION: iter0, loss: 0.7012156248092651\n",
      "Validation epoch 5: avg_iou = 0.6028917270993429, avg_acc = 0.7410726689157032\n",
      "Epoch: 6\n",
      "TRAINING: epoch6, iter0, loss: 0.6861535310745239\n",
      "TRAINING: epoch6, iter100, loss: 0.7024896144866943\n",
      "Finish epoch 6, time elapsed 82.12376880645752\n",
      "VALIDATION: iter0, loss: 0.7068074941635132\n",
      "Validation epoch 6: avg_iou = 0.5644320211713276, avg_acc = 0.7059695380074638\n",
      "Epoch: 7\n",
      "TRAINING: epoch7, iter0, loss: 0.6867166757583618\n",
      "TRAINING: epoch7, iter100, loss: 0.6890134215354919\n",
      "Finish epoch 7, time elapsed 80.96544408798218\n",
      "VALIDATION: iter0, loss: 0.7170650959014893\n",
      "Validation epoch 7: avg_iou = 0.5163821852396405, avg_acc = 0.6660974763688587\n",
      "Epoch: 8\n",
      "TRAINING: epoch8, iter0, loss: 0.6835768222808838\n",
      "TRAINING: epoch8, iter100, loss: 0.6882896423339844\n",
      "Finish epoch 8, time elapsed 81.98551988601685\n",
      "VALIDATION: iter0, loss: 0.6930452585220337\n",
      "Validation epoch 8: avg_iou = 0.5895192821820577, avg_acc = 0.7313182249901786\n",
      "Epoch: 9\n",
      "TRAINING: epoch9, iter0, loss: 0.6760448813438416\n",
      "TRAINING: epoch9, iter100, loss: 0.6899717450141907\n",
      "Finish epoch 9, time elapsed 81.63604736328125\n",
      "VALIDATION: iter0, loss: 0.6994894742965698\n",
      "Validation epoch 9: avg_iou = 0.5929284445823185, avg_acc = 0.7336775423988463\n",
      "Epoch: 10\n",
      "TRAINING: epoch10, iter0, loss: 0.6762083768844604\n",
      "TRAINING: epoch10, iter100, loss: 0.7905614972114563\n",
      "Finish epoch 10, time elapsed 76.93344974517822\n",
      "VALIDATION: iter0, loss: 0.7793009877204895\n",
      "Validation epoch 10: avg_iou = 0.48820439785245867, avg_acc = 0.6371536973922972\n",
      "Epoch: 11\n",
      "TRAINING: epoch11, iter0, loss: 0.749081552028656\n",
      "TRAINING: epoch11, iter100, loss: 0.7092077732086182\n",
      "Finish epoch 11, time elapsed 74.92118048667908\n",
      "VALIDATION: iter0, loss: 0.7508546710014343\n",
      "Validation epoch 11: avg_iou = 0.5044700413469284, avg_acc = 0.6513072110357738\n",
      "Epoch: 12\n",
      "TRAINING: epoch12, iter0, loss: 0.7040088176727295\n",
      "TRAINING: epoch12, iter100, loss: 0.7086316347122192\n",
      "Finish epoch 12, time elapsed 74.56662607192993\n",
      "VALIDATION: iter0, loss: 0.7003239989280701\n"
     ]
    }
   ],
   "source": [
    "import starter as starter\n",
    "\n",
    "starter.main()"
   ]
  },
  {
   "cell_type": "code",
   "execution_count": null,
   "metadata": {},
   "outputs": [],
   "source": []
  },
  {
   "cell_type": "code",
   "execution_count": null,
   "metadata": {},
   "outputs": [],
   "source": []
  }
 ],
 "metadata": {
  "kernelspec": {
   "display_name": "Python 3",
   "language": "python",
   "name": "python3"
  },
  "language_info": {
   "codemirror_mode": {
    "name": "ipython",
    "version": 3
   },
   "file_extension": ".py",
   "mimetype": "text/x-python",
   "name": "python",
   "nbconvert_exporter": "python",
   "pygments_lexer": "ipython3",
   "version": "3.7.6"
  }
 },
 "nbformat": 4,
 "nbformat_minor": 4
}
