{
 "cells": [
  {
   "cell_type": "code",
   "execution_count": null,
   "metadata": {},
   "outputs": [
    {
     "name": "stdout",
     "output_type": "stream",
     "text": [
      "No of classes =  27\n",
      "Using GPU\n",
      "Reached train function\n",
      "Epoch: 0\n",
      "TRAINING: epoch0, iter0, loss: 0.996341347694397\n",
      "TRAINING: epoch0, iter100, loss: 0.7791563272476196\n",
      "Finish epoch 0, time elapsed 74.4856367111206\n",
      "VALIDATION: iter0, loss: 0.7879043221473694\n",
      "Validation epoch 0: avg_iou = 0.4907376766204834, avg_acc = 0.6417593236953493\n",
      "Epoch: 1\n",
      "TRAINING: epoch1, iter0, loss: 0.7763753533363342\n",
      "TRAINING: epoch1, iter100, loss: 0.7847597002983093\n",
      "Finish epoch 1, time elapsed 78.5021960735321\n",
      "VALIDATION: iter0, loss: 0.8261387348175049\n",
      "Validation epoch 1: avg_iou = 0.45189273120864987, avg_acc = 0.6047249360690041\n",
      "Epoch: 2\n",
      "TRAINING: epoch2, iter0, loss: 0.7704442739486694\n",
      "TRAINING: epoch2, iter100, loss: 0.738201379776001\n",
      "Finish epoch 2, time elapsed 77.82605862617493\n",
      "VALIDATION: iter0, loss: 0.7307697534561157\n",
      "Validation epoch 2: avg_iou = 0.565432608127594, avg_acc = 0.7081414640895904\n",
      "Epoch: 3\n",
      "TRAINING: epoch3, iter0, loss: 0.7296793460845947\n",
      "TRAINING: epoch3, iter100, loss: 0.7250692248344421\n",
      "Finish epoch 3, time elapsed 78.93008852005005\n",
      "VALIDATION: iter0, loss: 0.7254905104637146\n",
      "Validation epoch 3: avg_iou = 0.5688345886412121, avg_acc = 0.7101345573152814\n",
      "Epoch: 4\n",
      "TRAINING: epoch4, iter0, loss: 0.7153737545013428\n",
      "TRAINING: epoch4, iter100, loss: 0.7178529500961304\n",
      "Finish epoch 4, time elapsed 79.65515613555908\n",
      "VALIDATION: iter0, loss: 0.7035715579986572\n",
      "Validation epoch 4: avg_iou = 0.5571791491811238, avg_acc = 0.7025773515776982\n",
      "Epoch: 5\n",
      "TRAINING: epoch5, iter0, loss: 0.7050961256027222\n"
     ]
    }
   ],
   "source": [
    "import starter as starter\n",
    "\n",
    "starter.main()"
   ]
  },
  {
   "cell_type": "code",
   "execution_count": null,
   "metadata": {},
   "outputs": [],
   "source": []
  },
  {
   "cell_type": "code",
   "execution_count": null,
   "metadata": {},
   "outputs": [],
   "source": []
  }
 ],
 "metadata": {
  "kernelspec": {
   "display_name": "Python 3",
   "language": "python",
   "name": "python3"
  },
  "language_info": {
   "codemirror_mode": {
    "name": "ipython",
    "version": 3
   },
   "file_extension": ".py",
   "mimetype": "text/x-python",
   "name": "python",
   "nbconvert_exporter": "python",
   "pygments_lexer": "ipython3",
   "version": "3.7.6"
  }
 },
 "nbformat": 4,
 "nbformat_minor": 4
}
